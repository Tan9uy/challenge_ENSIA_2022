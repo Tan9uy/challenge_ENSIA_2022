{
 "cells": [
  {
   "cell_type": "code",
   "execution_count": null,
   "metadata": {},
   "outputs": [],
   "source": [
    "import tensorflow as tf\n",
    "from tensorflow import keras\n",
    "import matplotlib.pyplot as plt\n",
    "import numpy as np\n",
    "import os\n",
    "import pandas as pd\n",
    "import cv2\n",
    "print(tf.__version__)\n",
    "from tensorflow.python.client import device_lib\n",
    "print(device_lib.list_local_devices())\n"
   ]
  },
  {
   "cell_type": "markdown",
   "metadata": {},
   "source": [
    "## Folders Setup"
   ]
  },
  {
   "cell_type": "code",
   "execution_count": null,
   "metadata": {},
   "outputs": [],
   "source": [
    "path = os.getcwd()\n",
    "data = os.path.join(path,'data')\n",
    "\n",
    "def folder_setup():\n",
    "    \"\"\" works for linux only\n",
    "\n",
    "    \"\"\"\n",
    "    df = pd.read_csv(\"train.csv\")\n",
    "    classes = df[\"label\"].drop_duplicates().values.tolist()\n",
    "    os.mkdir(os.path.join(path,'data'))\n",
    "    \n",
    "    # create classes folder\n",
    "    for classe in classes :\n",
    "        os.mkdir(os.path.join(path,'data',classe))\n",
    "\n",
    "    # copy the image in the right classes folder\n",
    "    for index, values in df.iterrows():\n",
    "        os.system(f\"cp {os.path.join(path,values[1])} {os.path.join(path,'data',values[2],values[1].split('/')[1])}\")  "
   ]
  },
  {
   "cell_type": "code",
   "execution_count": null,
   "metadata": {},
   "outputs": [],
   "source": [
    "#folder_setup()"
   ]
  },
  {
   "cell_type": "markdown",
   "metadata": {},
   "source": [
    "## Classes and weights"
   ]
  },
  {
   "cell_type": "code",
   "execution_count": null,
   "metadata": {},
   "outputs": [],
   "source": [
    "class_weight = {}\n",
    "total = 0\n",
    "for index,c in enumerate(sorted(os.listdir(data))):\n",
    "    weight = len(os.listdir(os.path.join(data,c)))\n",
    "    class_weight[index] = weight\n",
    "    total += weight\n",
    "\n",
    "class_weight = dict(map(lambda k_v:(k_v[0],1-k_v[1]/total),class_weight.items()))\n",
    "classes = sorted(os.listdir(data))\n",
    "classes"
   ]
  },
  {
   "cell_type": "code",
   "execution_count": null,
   "metadata": {},
   "outputs": [],
   "source": [
    "from tensorflow.keras.preprocessing.image import ImageDataGenerator\n",
    "\n",
    "# Create the ImageDataGenerator object\n",
    "train_datagen = ImageDataGenerator(\n",
    "    featurewise_center=True,\n",
    "    featurewise_std_normalization=True,\n",
    "    rotation_range=20,\n",
    "    width_shift_range=0.2,\n",
    "    height_shift_range=0.2,\n",
    "    horizontal_flip=True,\n",
    ")\n",
    "\n",
    "val_datagen = ImageDataGenerator(\n",
    "    featurewise_center=True,\n",
    "    featurewise_std_normalization=True,\n",
    "    rotation_range=20,\n",
    "    width_shift_range=0.2,\n",
    "    height_shift_range=0.2,\n",
    "    horizontal_flip=True,\n",
    ") \n"
   ]
  },
  {
   "cell_type": "markdown",
   "metadata": {},
   "source": [
    "## Create the dataset for training and validation"
   ]
  },
  {
   "cell_type": "code",
   "execution_count": null,
   "metadata": {},
   "outputs": [],
   "source": [
    "img_size = (256,256)\n",
    "batch_size = 16\n",
    "\n",
    "train_ds = keras.preprocessing.image_dataset_from_directory(\n",
    "    data,\n",
    "    labels=\"inferred\",\n",
    "    label_mode=\"categorical\",\n",
    "    color_mode=\"rgb\",\n",
    "    image_size=img_size,\n",
    "    batch_size=batch_size,\n",
    "    validation_split=0.15,\n",
    "    seed=3777,\n",
    "    subset=\"training\").prefetch(buffer_size=batch_size)\n",
    "\n",
    "val_ds = keras.preprocessing.image_dataset_from_directory(\n",
    "    data,\n",
    "    labels=\"inferred\",\n",
    "    label_mode=\"categorical\",\n",
    "    color_mode=\"rgb\",\n",
    "    image_size=img_size,\n",
    "    batch_size=batch_size,\n",
    "    validation_split=0.85,\n",
    "    seed=3777,\n",
    "    subset=\"validation\").prefetch(buffer_size=batch_size)\n"
   ]
  },
  {
   "cell_type": "markdown",
   "metadata": {},
   "source": [
    "## Data augmentation"
   ]
  },
  {
   "cell_type": "code",
   "execution_count": null,
   "metadata": {},
   "outputs": [],
   "source": [
    "from tensorflow.keras import layers\n",
    "#data_augmentation = keras.Sequential(\n",
    "#    [\n",
    "#        layers.RandomFlip(\"horizontal\"),\n",
    "#        layers.RandomRotation(0.1),\n",
    "#    ]\n",
    "#)"
   ]
  },
  {
   "cell_type": "markdown",
   "metadata": {},
   "source": [
    "## Display some images"
   ]
  },
  {
   "cell_type": "code",
   "execution_count": null,
   "metadata": {},
   "outputs": [],
   "source": [
    "plt.figure(figsize=(10, 10))\n",
    "for images, labels in train_ds.take(1):\n",
    "    for i in range(9):\n",
    "        ax = plt.subplot(3, 3, i + 1)\n",
    "        plt.imshow(images[i].numpy().astype(\"uint8\"))\n",
    "        plt.axis(\"off\")"
   ]
  },
  {
   "cell_type": "markdown",
   "metadata": {},
   "source": [
    "## Model"
   ]
  },
  {
   "cell_type": "code",
   "execution_count": null,
   "metadata": {},
   "outputs": [],
   "source": [
    "from tensorflow.keras.models import Sequential\n",
    "from tensorflow.keras.layers import Dense, Conv2D, MaxPool2D , Flatten, Dropout, BatchNormalization, GlobalAveragePooling2D"
   ]
  },
  {
   "cell_type": "markdown",
   "metadata": {},
   "source": [
    "### To keep the same shape everywhere"
   ]
  },
  {
   "cell_type": "code",
   "execution_count": null,
   "metadata": {},
   "outputs": [],
   "source": [
    "keras.backend.set_image_data_format('channels_last')"
   ]
  },
  {
   "cell_type": "markdown",
   "metadata": {},
   "source": [
    "### Transfer learning with EfficientNetB4 "
   ]
  },
  {
   "cell_type": "code",
   "execution_count": null,
   "metadata": {},
   "outputs": [],
   "source": [
    "from tensorflow.keras.applications import EfficientNetB4\n",
    "input_shape = (img_size[0],img_size[0],3)\n",
    "\n",
    "# get efficientNetB4 layer\n",
    "efficientNetB4 = EfficientNetB4(weights='imagenet', input_shape=input_shape, include_top=False)\n",
    "\n",
    "# We dont want to change the wait from efficientNetB4\n",
    "efficientNetB4.trainable = False\n",
    "\n",
    "\n",
    "model = Sequential([\n",
    "    efficientNetB4,\n",
    "    GlobalAveragePooling2D(),\n",
    "    Dense(19, activation=\"softmax\")\n",
    "])"
   ]
  },
  {
   "cell_type": "markdown",
   "metadata": {},
   "source": [
    "### Simple model without any transfer learning"
   ]
  },
  {
   "cell_type": "code",
   "execution_count": null,
   "metadata": {},
   "outputs": [],
   "source": [
    "Sequential([\n",
    "    Conv2D(32, (3,3), padding='same', input_shape=(img_size[0],img_size[0],3), activation=\"relu\"),\n",
    "    Conv2D(32, (3,3), activation=\"relu\"),\n",
    "    BatchNormalization(),\n",
    "    MaxPool2D(pool_size=(2,2)),\n",
    "\n",
    "    Conv2D(64, (3,3), padding='same', activation=\"relu\"),\n",
    "    Conv2D(64, (3,3), activation=\"relu\"),\n",
    "    BatchNormalization(),\n",
    "    MaxPool2D(pool_size=(2,2)),\n",
    "\n",
    "    Conv2D(128, (3,3), padding='same', activation=\"relu\"),\n",
    "    Conv2D(128, (3,3), activation=\"relu\"),\n",
    "    BatchNormalization(),\n",
    "    MaxPool2D(pool_size=(2,2)),\n",
    "\n",
    "    Conv2D(256, (3,3), padding='same', activation=\"relu\"),\n",
    "    Conv2D(256, (3,3), activation=\"relu\"),\n",
    "    MaxPool2D(pool_size=(2,2)),\n",
    "\n",
    "    Conv2D(512, (3,3), padding='same', activation=\"relu\"),\n",
    "    Conv2D(512, (3,3), activation=\"relu\"),\n",
    "    \n",
    "    Flatten(),\n",
    "    Dense(256,activation=\"relu\"),\n",
    "    Dropout(0.2),\n",
    "    Dense(19, activation=\"softmax\")\n",
    "])"
   ]
  },
  {
   "cell_type": "markdown",
   "metadata": {},
   "source": [
    "### Display model summary"
   ]
  },
  {
   "cell_type": "code",
   "execution_count": null,
   "metadata": {},
   "outputs": [],
   "source": [
    "model.summary()"
   ]
  },
  {
   "cell_type": "markdown",
   "metadata": {},
   "source": [
    "### Callbacks"
   ]
  },
  {
   "cell_type": "markdown",
   "metadata": {},
   "source": [
    "#### Learning rates"
   ]
  },
  {
   "cell_type": "code",
   "execution_count": null,
   "metadata": {},
   "outputs": [],
   "source": [
    "from tensorflow.keras.callbacks import ReduceLROnPlateau\n",
    "reduce_lr = ReduceLROnPlateau(\n",
    "            monitor = \"val_accuracy\",\n",
    "            factor=np.sqrt(0.1),\n",
    "            patience=10,\n",
    "            min_lr=0.5e-6)"
   ]
  },
  {
   "cell_type": "markdown",
   "metadata": {},
   "source": [
    "#### Checkpoint and earlystopping"
   ]
  },
  {
   "cell_type": "code",
   "execution_count": null,
   "metadata": {},
   "outputs": [],
   "source": [
    "from tensorflow.keras.callbacks import ModelCheckpoint, EarlyStopping\n",
    "checkpointer = ModelCheckpoint(filepath='model.hdf5', verbose=1, save_best_only=True)\n",
    "early_stoping = EarlyStopping(\n",
    "    monitor=\"val_accuracy\",\n",
    "    patience=15,\n",
    "    restore_best_weights=True,\n",
    ")\n"
   ]
  },
  {
   "cell_type": "markdown",
   "metadata": {},
   "source": [
    "### Model compilation and training"
   ]
  },
  {
   "cell_type": "code",
   "execution_count": null,
   "metadata": {},
   "outputs": [],
   "source": [
    "model.compile(\n",
    "    optimizer=\"adam\", \n",
    "    loss='categorical_crossentropy', \n",
    "    metrics=['accuracy']\n",
    ")"
   ]
  },
  {
   "cell_type": "code",
   "execution_count": null,
   "metadata": {},
   "outputs": [],
   "source": [
    "history = model.fit(train_ds,\n",
    "               epochs=150,\n",
    "               validation_data=val_ds,\n",
    "               callbacks=[reduce_lr,checkpointer, early_stoping],\n",
    "               class_weight=class_weight)"
   ]
  },
  {
   "cell_type": "markdown",
   "metadata": {},
   "source": [
    "## Data visualisation"
   ]
  },
  {
   "cell_type": "markdown",
   "metadata": {},
   "source": [
    "### Some graphs of the history of training"
   ]
  },
  {
   "cell_type": "code",
   "execution_count": null,
   "metadata": {},
   "outputs": [],
   "source": [
    "def plot_history(history):\n",
    "    \"\"\"\n",
    "    Plot the loss & accuracy\n",
    "    \"\"\"\n",
    "    plt.figure(figsize=[10,10])\n",
    "    plt.plot(history.history['val_accuracy'])\n",
    "    plt.title('model accuracy')\n",
    "    plt.ylabel('accuracy')\n",
    "    plt.xlabel('epoch')\n",
    "    plt.legend(['train', 'val'], loc='upper left')\n",
    "    plt.show()\n",
    "    \n",
    "    plt.figure(figsize=[10,10])\n",
    "    plt.plot(history.history['loss'])\n",
    "    plt.plot(history.history['val_loss'])\n",
    "    plt.title('model loss')\n",
    "    plt.ylabel('loss')\n",
    "    plt.xlabel('epoch')\n",
    "    plt.legend(['train', 'val'], loc='upper left')\n",
    "    plt.show()\n",
    "\n",
    "plot_history(history)"
   ]
  },
  {
   "cell_type": "markdown",
   "metadata": {},
   "source": [
    "### Make a random prediction"
   ]
  },
  {
   "cell_type": "code",
   "execution_count": null,
   "metadata": {},
   "outputs": [],
   "source": [
    "def do_prediction():\n",
    "    # prediction\n",
    "    model.load_weights('model.hdf5')\n",
    "    from random import randint\n",
    "    name_img = os.listdir(os.path.join(path,'test'))[randint(0,387)]\n",
    "    random_path_img = os.path.join(path,'test',name_img)\n",
    "    image_array = cv2.imread(random_path_img, cv2.IMREAD_COLOR) # Loading the image\n",
    "    image_array = cv2.resize(image_array, (img_size[0], img_size[0])) # Resize the image\n",
    "    #image = cv2.imread(random_path_img)\n",
    "    #cv2.imshow('image',image)\n",
    "    #cv2.waitKey(0)\n",
    "    #cv2.destroyAllWindows()\n",
    "    scores = model.predict(np.array([image_array]))\n",
    "    classes = sorted(os.listdir(data))\n",
    "    print(f'{name_img} -> {classes[scores.argmax(axis=-1)[0]]} {scores.max()}\\n\\n')\n",
    "    for c,p in zip(classes,scores[0]):\n",
    "        print(f'{c} prediction : {p}')\n",
    "\n",
    "\n",
    "\n"
   ]
  },
  {
   "cell_type": "markdown",
   "metadata": {},
   "source": [
    "### Write output file test_prediction.csv"
   ]
  },
  {
   "cell_type": "code",
   "execution_count": null,
   "metadata": {},
   "outputs": [],
   "source": [
    "def test_predictions():\n",
    "    model = keras.models.load_model('model.hdf5')\n",
    "    with open(\"test_predictions.csv\",\"w\") as file :\n",
    "        images = []\n",
    "        test_dir = os.listdir(os.path.join(path,'test'))\n",
    "        file.write(\"index,path,pred\\n\")\n",
    "        for img in test_dir:\n",
    "            image_array = cv2.imread(os.path.join(path,'test',img), cv2.IMREAD_COLOR) # Loading the image\n",
    "            images.append(cv2.resize(image_array, (img_size[0], img_size[0]))) # Resize the image\n",
    "        scores = model.predict(np.array(images))\n",
    "        for s,img in zip(scores.argmax(axis=-1),test_dir) :\n",
    "            classe = classes[s]\n",
    "            file.write(f\"{img.split('.')[0]},train/{img},{classe}\\n\")\n",
    "\n",
    "        \n",
    "test_predictions()\n"
   ]
  }
 ],
 "metadata": {
  "interpreter": {
   "hash": "b620d4b40de171e73311014c5f54ac550aca48bb27f45389a8c14771c301782e"
  },
  "kernelspec": {
   "display_name": "Python 3.8.5 64-bit ('tf2': conda)",
   "language": "python",
   "name": "python3"
  },
  "language_info": {
   "codemirror_mode": {
    "name": "ipython",
    "version": 3
   },
   "file_extension": ".py",
   "mimetype": "text/x-python",
   "name": "python",
   "nbconvert_exporter": "python",
   "pygments_lexer": "ipython3",
   "version": "3.9.10"
  },
  "orig_nbformat": 4
 },
 "nbformat": 4,
 "nbformat_minor": 2
}
